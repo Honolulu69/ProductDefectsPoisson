{
 "cells": [
  {
   "cell_type": "markdown",
   "id": "39289ead-2f17-4772-ad9f-326b23d0ca8f",
   "metadata": {},
   "source": [
    "Product Defects - Poisson Distribution\n",
    "\r\n",
    "\r\n",
    "You will investigate certain attributes of the Poisson(7) distribution to get an intuition for how many defective objects you should expect to see in a given amount of time. You will also practice and apply what you know about the Poisson distribution on a practice data set that you will simulate yourself."
   ]
  },
  {
   "cell_type": "markdown",
   "id": "6b554dc9-8f20-429f-abed-df1d432abc9d",
   "metadata": {},
   "source": [
    "1. Create a variable called lam that represents the rate parameter of our distribution."
   ]
  },
  {
   "cell_type": "code",
   "execution_count": 1,
   "id": "5c08016f-fec3-40c7-9a11-bce6427228a7",
   "metadata": {},
   "outputs": [],
   "source": [
    "import scipy.stats as stats\n",
    "import numpy as np\n",
    "\n",
    "## Task 1:\n",
    "lam = 7"
   ]
  },
  {
   "cell_type": "markdown",
   "id": "9f740de1-a8f8-41d8-8fff-8936e9a03f45",
   "metadata": {},
   "source": [
    "2. \r\n",
    "Calculate and print the probability of observing exactly lam defects on a given day."
   ]
  },
  {
   "cell_type": "code",
   "execution_count": 3,
   "id": "8be08386-fc70-43b1-a6b9-e2f159911e94",
   "metadata": {},
   "outputs": [
    {
     "name": "stdout",
     "output_type": "stream",
     "text": [
      "The probability of observing exactly lam defects on a given day is 14.9 %\n"
     ]
    }
   ],
   "source": [
    "## Task 2:\n",
    "print('The probability of observing exactly lam defects on a given day is' , round(stats.poisson.pmf (lam, lam) * 100, 1), '%')"
   ]
  },
  {
   "cell_type": "markdown",
   "id": "e6337740-a24b-4f90-aa1f-2c0f1ff1d1a0",
   "metadata": {},
   "source": [
    "3. Having 4 or fewer defects on a given day is an exceptionally good day. You are curious about how often that might happen. \r\n",
    "Calculate and print the probability of having one of those days."
   ]
  },
  {
   "cell_type": "code",
   "execution_count": 4,
   "id": "83befe27-a916-4c43-980f-38bdd1dc2c18",
   "metadata": {},
   "outputs": [
    {
     "name": "stdout",
     "output_type": "stream",
     "text": [
      "The probability of observing 4 or fewer defects on a given day is 9.1 %\n"
     ]
    }
   ],
   "source": [
    "## Task 3:\n",
    "print('The probability of observing 4 or fewer defects on a given day is' , round(stats.poisson.pmf (4, lam) * 100, 1), '%')"
   ]
  },
  {
   "cell_type": "markdown",
   "id": "64ee240e-b4e5-490b-a9b1-c48b30cdef9f",
   "metadata": {},
   "source": [
    "4. On the other hand, having more than 9 defects on a given day is considered a bad day. \r\n",
    "Calculate and print the probability of having one of these bad days."
   ]
  },
  {
   "cell_type": "code",
   "execution_count": 5,
   "id": "9679ab3c-ee12-416d-8bef-c85ac53d974b",
   "metadata": {},
   "outputs": [
    {
     "name": "stdout",
     "output_type": "stream",
     "text": [
      "The probability of observing more than 9 defects on a given day is 89.9 %\n"
     ]
    }
   ],
   "source": [
    "## Task 4:\n",
    "print('The probability of observing more than 9 defects on a given day is' , round((1 - stats.poisson.pmf (9, lam)) * 100, 1), '%')"
   ]
  },
  {
   "cell_type": "markdown",
   "id": "db0e7ec4-0c3e-404d-8161-f3f6cd1c38dd",
   "metadata": {},
   "source": [
    "5. Create a variable called year_defects that has 365 random values from the Poisson distribution."
   ]
  },
  {
   "cell_type": "code",
   "execution_count": 6,
   "id": "cd104437-ea84-4836-9db9-3de10145dc1f",
   "metadata": {},
   "outputs": [],
   "source": [
    "## Task 5:\n",
    "year_defects = stats.poisson.rvs(lam, size = 365)"
   ]
  },
  {
   "cell_type": "markdown",
   "id": "af11f092-e387-4b13-bdf5-6781c80f1646",
   "metadata": {},
   "source": [
    "6. Let's take a look at our new dataset. Print the first 20 values in this dataset."
   ]
  },
  {
   "cell_type": "code",
   "execution_count": 7,
   "id": "65914219-00f0-4dee-9669-65ad83bab9eb",
   "metadata": {},
   "outputs": [
    {
     "name": "stdout",
     "output_type": "stream",
     "text": [
      "[12  2  3  6  8  3  9  6  5  9  9  8  9  8  6  5  5 10 10  7]\n"
     ]
    }
   ],
   "source": [
    "## Task 6:\n",
    "print(year_defects[0:20])"
   ]
  },
  {
   "cell_type": "markdown",
   "id": "0554bdfd-9c58-4a14-966b-ebdc009caf47",
   "metadata": {},
   "source": [
    "7. If we expect 7 defects on a given day, what is the total number of defects we would expect over 365 days? \r\n",
    "Calculate and print this value to the output terminal."
   ]
  },
  {
   "cell_type": "code",
   "execution_count": 8,
   "id": "d08b3ecf-4243-46fe-bdda-7dce448da856",
   "metadata": {},
   "outputs": [
    {
     "data": {
      "text/plain": [
       "2555"
      ]
     },
     "execution_count": 8,
     "metadata": {},
     "output_type": "execute_result"
    }
   ],
   "source": [
    "## Task 7:\n",
    "lam * 365"
   ]
  },
  {
   "cell_type": "markdown",
   "id": "d7f48798-4db9-421e-93d8-b77ca1338752",
   "metadata": {},
   "source": [
    "8. Calculate and print the total sum of the dataset year_defects. How does this compare to the total number of defects we expected over 365 days?"
   ]
  },
  {
   "cell_type": "code",
   "execution_count": 9,
   "id": "f415032b-8044-41b8-8715-e9c7aed135ac",
   "metadata": {},
   "outputs": [
    {
     "data": {
      "text/plain": [
       "2528"
      ]
     },
     "execution_count": 9,
     "metadata": {},
     "output_type": "execute_result"
    }
   ],
   "source": [
    "## Task 8:\n",
    "sum(year_defects)"
   ]
  },
  {
   "cell_type": "markdown",
   "id": "21787c2c-24f8-4916-bd59-9b650db1da91",
   "metadata": {},
   "source": [
    "9. Calculate and print the average number of defects per day from our simulated dataset."
   ]
  },
  {
   "cell_type": "code",
   "execution_count": 10,
   "id": "dc25bc40-924c-4915-8c18-ee46ee4a324b",
   "metadata": {},
   "outputs": [
    {
     "data": {
      "text/plain": [
       "6.926027397260274"
      ]
     },
     "execution_count": 10,
     "metadata": {},
     "output_type": "execute_result"
    }
   ],
   "source": [
    "## Task 9:\n",
    "np.mean(year_defects)"
   ]
  },
  {
   "cell_type": "markdown",
   "id": "a037a2d2-c5f0-4239-a1dc-562e743608b9",
   "metadata": {},
   "source": [
    "10. Print the maximum value of year_defects"
   ]
  },
  {
   "cell_type": "code",
   "execution_count": 11,
   "id": "22c1b013-15aa-47e9-9d07-ea71d3f3f756",
   "metadata": {},
   "outputs": [
    {
     "data": {
      "text/plain": [
       "20"
      ]
     },
     "execution_count": 11,
     "metadata": {},
     "output_type": "execute_result"
    }
   ],
   "source": [
    "## Task 10:\n",
    "np.max(year_defects)"
   ]
  },
  {
   "cell_type": "markdown",
   "id": "5cc5bd74-0275-42d5-99bc-d9d5ba811d93",
   "metadata": {},
   "source": [
    "11. Calculate and print the probability of observing that maximum value or more from the Poisson(7) distribution."
   ]
  },
  {
   "cell_type": "code",
   "execution_count": 12,
   "id": "4fef1966-d10f-427f-8fef-f3d1c1408f60",
   "metadata": {},
   "outputs": [
    {
     "name": "stdout",
     "output_type": "stream",
     "text": [
      "1.449534161068744e-05\n"
     ]
    }
   ],
   "source": [
    "## Task 11:\n",
    "print(1 - stats.poisson.cdf(np.max(year_defects), lam))"
   ]
  },
  {
   "cell_type": "code",
   "execution_count": 13,
   "id": "76f225e8-4ebc-48e5-bc66-93ba2564b78c",
   "metadata": {},
   "outputs": [
    {
     "data": {
      "text/plain": [
       "0.9999855046583893"
      ]
     },
     "execution_count": 13,
     "metadata": {},
     "output_type": "execute_result"
    }
   ],
   "source": [
    "stats.poisson.cdf(np.max(year_defects), lam)"
   ]
  },
  {
   "cell_type": "markdown",
   "id": "8ea6b1f7-8e1b-4908-b134-545a019825e6",
   "metadata": {},
   "source": [
    "12. Calculate and print the number of defects that would put us in the 90th percentile for a given day. In other words, on 90% of days, we will observe fewer defects than this number."
   ]
  },
  {
   "cell_type": "code",
   "execution_count": 14,
   "id": "0dff615b-3e28-4a8f-b0fd-480e1df08ae0",
   "metadata": {},
   "outputs": [
    {
     "name": "stdout",
     "output_type": "stream",
     "text": [
      "10.0\n"
     ]
    }
   ],
   "source": [
    "## Task 12:\n",
    "percentile_90 = stats.poisson.ppf(0.9, lam)\n",
    "print(percentile_90)"
   ]
  },
  {
   "cell_type": "markdown",
   "id": "b42ef736-a3c4-48ea-a463-3cb06336c1a5",
   "metadata": {},
   "source": [
    "13. What proportion of our simulated dataset year_defects is greater than or equal to the number we calculated in the previous step."
   ]
  },
  {
   "cell_type": "code",
   "execution_count": 15,
   "id": "7d1dfeac-c6c1-458c-a01a-0a6972be7365",
   "metadata": {},
   "outputs": [
    {
     "name": "stdout",
     "output_type": "stream",
     "text": [
      "0.14794520547945206\n"
     ]
    }
   ],
   "source": [
    "## Task 13:\n",
    "prop = sum(year_defects >= percentile_90)/ len(year_defects)\n",
    "print(prop)"
   ]
  }
 ],
 "metadata": {
  "kernelspec": {
   "display_name": "Python 3 (ipykernel)",
   "language": "python",
   "name": "python3"
  },
  "language_info": {
   "codemirror_mode": {
    "name": "ipython",
    "version": 3
   },
   "file_extension": ".py",
   "mimetype": "text/x-python",
   "name": "python",
   "nbconvert_exporter": "python",
   "pygments_lexer": "ipython3",
   "version": "3.10.13"
  }
 },
 "nbformat": 4,
 "nbformat_minor": 5
}
